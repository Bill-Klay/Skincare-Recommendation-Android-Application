{
 "cells": [
  {
   "cell_type": "markdown",
   "metadata": {},
   "source": [
    "#### Imports"
   ]
  },
  {
   "cell_type": "code",
   "execution_count": 1,
   "metadata": {},
   "outputs": [],
   "source": [
    "import pandas as pd\n",
    "from scipy.sparse import csr_matrix\n",
    "from sklearn.neighbors import NearestNeighbors\n",
    "import numpy as np\n",
    "import sklearn\n",
    "from sklearn.decomposition import TruncatedSVD\n",
    "from surprise import Dataset, Reader\n",
    "from surprise import SVD\n",
    "from surprise import accuracy\n",
    "from surprise.model_selection import train_test_split as tts\n",
    "from sklearn.neighbors import KNeighborsClassifier\n",
    "from sklearn.model_selection import cross_val_score\n",
    "import matplotlib.pyplot as plt\n",
    "from sklearn.model_selection import train_test_split\n",
    "from sklearn.metrics import classification_report\n",
    "from sklearn.metrics import confusion_matrix\n",
    "from sklearn.metrics import accuracy_score"
   ]
  },
  {
   "cell_type": "markdown",
   "metadata": {},
   "source": [
    "#### Get item name from products list\n",
    "Function to get the name of the product from the product dataframe"
   ]
  },
  {
   "cell_type": "code",
   "execution_count": 2,
   "metadata": {},
   "outputs": [],
   "source": [
    "def item(id):  \n",
    "    return productsDF.loc[productsDF['product_id'] == id]['product_name'].tolist()[0]"
   ]
  },
  {
   "cell_type": "markdown",
   "metadata": {},
   "source": [
    "#### Read dataframes\n",
    "*user_reviews* dataframe is for working on the collaborative based filtering, all the features can be observed below. It has been sliced to get the only the top rated products for better clustering and regression. *productsDF* is the products dataframe which was used for content based filtering, it has been called here just to get the name of the products from the list."
   ]
  },
  {
   "cell_type": "code",
   "execution_count": 3,
   "metadata": {},
   "outputs": [
    {
     "data": {
      "text/html": [
       "<div>\n",
       "<style scoped>\n",
       "    .dataframe tbody tr th:only-of-type {\n",
       "        vertical-align: middle;\n",
       "    }\n",
       "\n",
       "    .dataframe tbody tr th {\n",
       "        vertical-align: top;\n",
       "    }\n",
       "\n",
       "    .dataframe thead th {\n",
       "        text-align: right;\n",
       "    }\n",
       "</style>\n",
       "<table border=\"1\" class=\"dataframe\">\n",
       "  <thead>\n",
       "    <tr style=\"text-align: right;\">\n",
       "      <th></th>\n",
       "      <th>user_id</th>\n",
       "      <th>product_id</th>\n",
       "      <th>username</th>\n",
       "      <th>stars</th>\n",
       "      <th>review</th>\n",
       "      <th>review_cleaned</th>\n",
       "      <th>combination_skin</th>\n",
       "      <th>dry_skin</th>\n",
       "      <th>normal_skin</th>\n",
       "      <th>oily_skin</th>\n",
       "      <th>sensitive_skin</th>\n",
       "      <th>skin_tone</th>\n",
       "      <th>skin_type</th>\n",
       "      <th>eye_color</th>\n",
       "      <th>hair_color</th>\n",
       "    </tr>\n",
       "  </thead>\n",
       "  <tbody>\n",
       "    <tr>\n",
       "      <th>0</th>\n",
       "      <td>2803</td>\n",
       "      <td>110</td>\n",
       "      <td>Seymour2000</td>\n",
       "      <td>5</td>\n",
       "      <td>I feel like a lot of the people that are givin...</td>\n",
       "      <td>['feel', 'like', 'lot', 'people', 'giving', 'l...</td>\n",
       "      <td>1</td>\n",
       "      <td>1</td>\n",
       "      <td>1</td>\n",
       "      <td>1</td>\n",
       "      <td>1</td>\n",
       "      <td>Porcelain</td>\n",
       "      <td>Combination</td>\n",
       "      <td>Brown</td>\n",
       "      <td>Brunette</td>\n",
       "    </tr>\n",
       "    <tr>\n",
       "      <th>1</th>\n",
       "      <td>6095</td>\n",
       "      <td>110</td>\n",
       "      <td>randurs</td>\n",
       "      <td>5</td>\n",
       "      <td>I recently started a job where I work in the s...</td>\n",
       "      <td>['recently', 'started', 'job', 'work', 'sun', ...</td>\n",
       "      <td>1</td>\n",
       "      <td>1</td>\n",
       "      <td>1</td>\n",
       "      <td>1</td>\n",
       "      <td>1</td>\n",
       "      <td>Tan</td>\n",
       "      <td>Combination</td>\n",
       "      <td>Brown</td>\n",
       "      <td>Brunette</td>\n",
       "    </tr>\n",
       "    <tr>\n",
       "      <th>2</th>\n",
       "      <td>3001</td>\n",
       "      <td>110</td>\n",
       "      <td>Swerve2020</td>\n",
       "      <td>5</td>\n",
       "      <td>This was recommended to me while in the store ...</td>\n",
       "      <td>['wa', 'recommended', 'store', 'dry', 'skin', ...</td>\n",
       "      <td>1</td>\n",
       "      <td>1</td>\n",
       "      <td>1</td>\n",
       "      <td>1</td>\n",
       "      <td>1</td>\n",
       "      <td>Fair</td>\n",
       "      <td>Dry</td>\n",
       "      <td>Green</td>\n",
       "      <td>Auburn</td>\n",
       "    </tr>\n",
       "    <tr>\n",
       "      <th>3</th>\n",
       "      <td>2492</td>\n",
       "      <td>110</td>\n",
       "      <td>PeachesNCream2</td>\n",
       "      <td>1</td>\n",
       "      <td>I wanted to love this...really, I did! I norma...</td>\n",
       "      <td>['wanted', 'love', 'really', 'normally', 'love...</td>\n",
       "      <td>1</td>\n",
       "      <td>1</td>\n",
       "      <td>1</td>\n",
       "      <td>1</td>\n",
       "      <td>1</td>\n",
       "      <td>Fair</td>\n",
       "      <td>Dry</td>\n",
       "      <td>Blue</td>\n",
       "      <td>Auburn</td>\n",
       "    </tr>\n",
       "    <tr>\n",
       "      <th>4</th>\n",
       "      <td>2458</td>\n",
       "      <td>110</td>\n",
       "      <td>OshaJ</td>\n",
       "      <td>5</td>\n",
       "      <td>This is a great exfoliant. I was using Kate So...</td>\n",
       "      <td>['great', 'exfoliant', 'wa', 'using', 'kate', ...</td>\n",
       "      <td>1</td>\n",
       "      <td>1</td>\n",
       "      <td>1</td>\n",
       "      <td>1</td>\n",
       "      <td>1</td>\n",
       "      <td>Tan</td>\n",
       "      <td>Combination</td>\n",
       "      <td>Green</td>\n",
       "      <td>Blonde</td>\n",
       "    </tr>\n",
       "    <tr>\n",
       "      <th>...</th>\n",
       "      <td>...</td>\n",
       "      <td>...</td>\n",
       "      <td>...</td>\n",
       "      <td>...</td>\n",
       "      <td>...</td>\n",
       "      <td>...</td>\n",
       "      <td>...</td>\n",
       "      <td>...</td>\n",
       "      <td>...</td>\n",
       "      <td>...</td>\n",
       "      <td>...</td>\n",
       "      <td>...</td>\n",
       "      <td>...</td>\n",
       "      <td>...</td>\n",
       "      <td>...</td>\n",
       "    </tr>\n",
       "    <tr>\n",
       "      <th>2771</th>\n",
       "      <td>3993</td>\n",
       "      <td>101</td>\n",
       "      <td>colorphile</td>\n",
       "      <td>4</td>\n",
       "      <td>Even though I have dry skin, I prefer this one...</td>\n",
       "      <td>['even', 'though', 'dry', 'skin', 'prefer', 'o...</td>\n",
       "      <td>0</td>\n",
       "      <td>0</td>\n",
       "      <td>0</td>\n",
       "      <td>0</td>\n",
       "      <td>0</td>\n",
       "      <td>Tan</td>\n",
       "      <td>Combination</td>\n",
       "      <td>Brown</td>\n",
       "      <td>Black</td>\n",
       "    </tr>\n",
       "    <tr>\n",
       "      <th>2772</th>\n",
       "      <td>6486</td>\n",
       "      <td>101</td>\n",
       "      <td>stephaniesk</td>\n",
       "      <td>4</td>\n",
       "      <td>While I don't dislike this toner, I don't love...</td>\n",
       "      <td>['dislike', 'toner', 'love', 'made', 'face', '...</td>\n",
       "      <td>0</td>\n",
       "      <td>0</td>\n",
       "      <td>0</td>\n",
       "      <td>0</td>\n",
       "      <td>0</td>\n",
       "      <td>Fair</td>\n",
       "      <td>Combination</td>\n",
       "      <td>Green</td>\n",
       "      <td>Blonde</td>\n",
       "    </tr>\n",
       "    <tr>\n",
       "      <th>2773</th>\n",
       "      <td>5806</td>\n",
       "      <td>101</td>\n",
       "      <td>nesse</td>\n",
       "      <td>2</td>\n",
       "      <td>Being that I just turned 30, I've noticed my s...</td>\n",
       "      <td>['turned', 'noticed', 'skin', 'changing', 'wan...</td>\n",
       "      <td>0</td>\n",
       "      <td>0</td>\n",
       "      <td>0</td>\n",
       "      <td>0</td>\n",
       "      <td>0</td>\n",
       "      <td>Light</td>\n",
       "      <td>Oily</td>\n",
       "      <td>Hazel</td>\n",
       "      <td>Brunette</td>\n",
       "    </tr>\n",
       "    <tr>\n",
       "      <th>2774</th>\n",
       "      <td>3373</td>\n",
       "      <td>101</td>\n",
       "      <td>ajbeauty18</td>\n",
       "      <td>4</td>\n",
       "      <td>I absolutely love how this toner makes my skin...</td>\n",
       "      <td>['absolutely', 'love', 'toner', 'make', 'skin'...</td>\n",
       "      <td>0</td>\n",
       "      <td>0</td>\n",
       "      <td>0</td>\n",
       "      <td>0</td>\n",
       "      <td>0</td>\n",
       "      <td>No data</td>\n",
       "      <td>No data</td>\n",
       "      <td>No data</td>\n",
       "      <td>No data</td>\n",
       "    </tr>\n",
       "    <tr>\n",
       "      <th>2775</th>\n",
       "      <td>5348</td>\n",
       "      <td>260</td>\n",
       "      <td>m2019</td>\n",
       "      <td>2</td>\n",
       "      <td>Did not like it . Was difficult to wash off. T...</td>\n",
       "      <td>['like', 'wa', 'difficult', 'wash', 'expensive...</td>\n",
       "      <td>0</td>\n",
       "      <td>0</td>\n",
       "      <td>0</td>\n",
       "      <td>0</td>\n",
       "      <td>0</td>\n",
       "      <td>Medium</td>\n",
       "      <td>Combination</td>\n",
       "      <td>Brown</td>\n",
       "      <td>Black</td>\n",
       "    </tr>\n",
       "  </tbody>\n",
       "</table>\n",
       "<p>2776 rows × 15 columns</p>\n",
       "</div>"
      ],
      "text/plain": [
       "      user_id  product_id        username  stars  \\\n",
       "0        2803         110     Seymour2000      5   \n",
       "1        6095         110         randurs      5   \n",
       "2        3001         110      Swerve2020      5   \n",
       "3        2492         110  PeachesNCream2      1   \n",
       "4        2458         110           OshaJ      5   \n",
       "...       ...         ...             ...    ...   \n",
       "2771     3993         101      colorphile      4   \n",
       "2772     6486         101     stephaniesk      4   \n",
       "2773     5806         101           nesse      2   \n",
       "2774     3373         101      ajbeauty18      4   \n",
       "2775     5348         260           m2019      2   \n",
       "\n",
       "                                                 review  \\\n",
       "0     I feel like a lot of the people that are givin...   \n",
       "1     I recently started a job where I work in the s...   \n",
       "2     This was recommended to me while in the store ...   \n",
       "3     I wanted to love this...really, I did! I norma...   \n",
       "4     This is a great exfoliant. I was using Kate So...   \n",
       "...                                                 ...   \n",
       "2771  Even though I have dry skin, I prefer this one...   \n",
       "2772  While I don't dislike this toner, I don't love...   \n",
       "2773  Being that I just turned 30, I've noticed my s...   \n",
       "2774  I absolutely love how this toner makes my skin...   \n",
       "2775  Did not like it . Was difficult to wash off. T...   \n",
       "\n",
       "                                         review_cleaned  combination_skin  \\\n",
       "0     ['feel', 'like', 'lot', 'people', 'giving', 'l...                 1   \n",
       "1     ['recently', 'started', 'job', 'work', 'sun', ...                 1   \n",
       "2     ['wa', 'recommended', 'store', 'dry', 'skin', ...                 1   \n",
       "3     ['wanted', 'love', 'really', 'normally', 'love...                 1   \n",
       "4     ['great', 'exfoliant', 'wa', 'using', 'kate', ...                 1   \n",
       "...                                                 ...               ...   \n",
       "2771  ['even', 'though', 'dry', 'skin', 'prefer', 'o...                 0   \n",
       "2772  ['dislike', 'toner', 'love', 'made', 'face', '...                 0   \n",
       "2773  ['turned', 'noticed', 'skin', 'changing', 'wan...                 0   \n",
       "2774  ['absolutely', 'love', 'toner', 'make', 'skin'...                 0   \n",
       "2775  ['like', 'wa', 'difficult', 'wash', 'expensive...                 0   \n",
       "\n",
       "      dry_skin  normal_skin  oily_skin  sensitive_skin  skin_tone  \\\n",
       "0            1            1          1               1  Porcelain   \n",
       "1            1            1          1               1        Tan   \n",
       "2            1            1          1               1       Fair   \n",
       "3            1            1          1               1       Fair   \n",
       "4            1            1          1               1        Tan   \n",
       "...        ...          ...        ...             ...        ...   \n",
       "2771         0            0          0               0        Tan   \n",
       "2772         0            0          0               0       Fair   \n",
       "2773         0            0          0               0      Light   \n",
       "2774         0            0          0               0    No data   \n",
       "2775         0            0          0               0     Medium   \n",
       "\n",
       "        skin_type eye_color hair_color  \n",
       "0     Combination     Brown   Brunette  \n",
       "1     Combination     Brown   Brunette  \n",
       "2             Dry     Green     Auburn  \n",
       "3             Dry      Blue     Auburn  \n",
       "4     Combination     Green     Blonde  \n",
       "...           ...       ...        ...  \n",
       "2771  Combination     Brown      Black  \n",
       "2772  Combination     Green     Blonde  \n",
       "2773         Oily     Hazel   Brunette  \n",
       "2774      No data   No data    No data  \n",
       "2775  Combination     Brown      Black  \n",
       "\n",
       "[2776 rows x 15 columns]"
      ]
     },
     "execution_count": 3,
     "metadata": {},
     "output_type": "execute_result"
    }
   ],
   "source": [
    "user_reviews = pd.read_excel('user_reviews_sliced_multiple.xlsx')\n",
    "productsDF = pd.read_excel(\"product_data.xlsx\")\n",
    "user_reviews"
   ]
  },
  {
   "cell_type": "markdown",
   "metadata": {},
   "source": [
    "### K Nearest Neighbour\n",
    "The difference between the previously implemented model and this new one is just the adjustment of the classification label. Previously product_id was being used to predict the suggested item, here we are classifying the ratings given by the user. Though the prediction is not being used for recommendation purposes, but this help with evaluation measure. Besides this the N neighbour algorithm is being used for recommending closest 5 item based on the ratings hence making it item-item based. <br>\n",
    "The flow diagrams need not be adjusted since they were made generic to suit this situation. Although the text will be need to be rectified. Majorly the data preparation, implementation and the evaluation section. "
   ]
  },
  {
   "cell_type": "markdown",
   "metadata": {},
   "source": [
    "#### Prepare dateset for KNN\n",
    "The main dataframe for user reviews has been sliced to maintain only the features requried for this implementation, mainly user_id, product_id and the ratings or the stars in this case. Duplicates have been droped while only the first occurence has been kept. *Duplicates* in this case represent values where user id and product id are the same, hence the subset. The *knn_dataframe* can be observed below with the features and their values. <br>\n",
    "The warning in the red label can be ignored safely, it highlightes that there is a better way to remove duplicates than copy the specific values again to the original dataframe. "
   ]
  },
  {
   "cell_type": "code",
   "execution_count": 4,
   "metadata": {},
   "outputs": [
    {
     "name": "stderr",
     "output_type": "stream",
     "text": [
      "D:\\My Projects\\Skincare Recommendation\\venv\\lib\\site-packages\\pandas\\util\\_decorators.py:311: SettingWithCopyWarning: \n",
      "A value is trying to be set on a copy of a slice from a DataFrame\n",
      "\n",
      "See the caveats in the documentation: https://pandas.pydata.org/pandas-docs/stable/user_guide/indexing.html#returning-a-view-versus-a-copy\n",
      "  return func(*args, **kwargs)\n"
     ]
    },
    {
     "data": {
      "text/html": [
       "<div>\n",
       "<style scoped>\n",
       "    .dataframe tbody tr th:only-of-type {\n",
       "        vertical-align: middle;\n",
       "    }\n",
       "\n",
       "    .dataframe tbody tr th {\n",
       "        vertical-align: top;\n",
       "    }\n",
       "\n",
       "    .dataframe thead th {\n",
       "        text-align: right;\n",
       "    }\n",
       "</style>\n",
       "<table border=\"1\" class=\"dataframe\">\n",
       "  <thead>\n",
       "    <tr style=\"text-align: right;\">\n",
       "      <th></th>\n",
       "      <th>user_id</th>\n",
       "      <th>product_id</th>\n",
       "      <th>stars</th>\n",
       "    </tr>\n",
       "  </thead>\n",
       "  <tbody>\n",
       "    <tr>\n",
       "      <th>0</th>\n",
       "      <td>2803</td>\n",
       "      <td>110</td>\n",
       "      <td>5</td>\n",
       "    </tr>\n",
       "    <tr>\n",
       "      <th>1</th>\n",
       "      <td>6095</td>\n",
       "      <td>110</td>\n",
       "      <td>5</td>\n",
       "    </tr>\n",
       "    <tr>\n",
       "      <th>2</th>\n",
       "      <td>3001</td>\n",
       "      <td>110</td>\n",
       "      <td>5</td>\n",
       "    </tr>\n",
       "    <tr>\n",
       "      <th>3</th>\n",
       "      <td>2492</td>\n",
       "      <td>110</td>\n",
       "      <td>1</td>\n",
       "    </tr>\n",
       "    <tr>\n",
       "      <th>4</th>\n",
       "      <td>2458</td>\n",
       "      <td>110</td>\n",
       "      <td>5</td>\n",
       "    </tr>\n",
       "    <tr>\n",
       "      <th>...</th>\n",
       "      <td>...</td>\n",
       "      <td>...</td>\n",
       "      <td>...</td>\n",
       "    </tr>\n",
       "    <tr>\n",
       "      <th>2771</th>\n",
       "      <td>3993</td>\n",
       "      <td>101</td>\n",
       "      <td>4</td>\n",
       "    </tr>\n",
       "    <tr>\n",
       "      <th>2772</th>\n",
       "      <td>6486</td>\n",
       "      <td>101</td>\n",
       "      <td>4</td>\n",
       "    </tr>\n",
       "    <tr>\n",
       "      <th>2773</th>\n",
       "      <td>5806</td>\n",
       "      <td>101</td>\n",
       "      <td>2</td>\n",
       "    </tr>\n",
       "    <tr>\n",
       "      <th>2774</th>\n",
       "      <td>3373</td>\n",
       "      <td>101</td>\n",
       "      <td>4</td>\n",
       "    </tr>\n",
       "    <tr>\n",
       "      <th>2775</th>\n",
       "      <td>5348</td>\n",
       "      <td>260</td>\n",
       "      <td>2</td>\n",
       "    </tr>\n",
       "  </tbody>\n",
       "</table>\n",
       "<p>1841 rows × 3 columns</p>\n",
       "</div>"
      ],
      "text/plain": [
       "      user_id  product_id  stars\n",
       "0        2803         110      5\n",
       "1        6095         110      5\n",
       "2        3001         110      5\n",
       "3        2492         110      1\n",
       "4        2458         110      5\n",
       "...       ...         ...    ...\n",
       "2771     3993         101      4\n",
       "2772     6486         101      4\n",
       "2773     5806         101      2\n",
       "2774     3373         101      4\n",
       "2775     5348         260      2\n",
       "\n",
       "[1841 rows x 3 columns]"
      ]
     },
     "execution_count": 4,
     "metadata": {},
     "output_type": "execute_result"
    }
   ],
   "source": [
    "knn_dataframe = user_reviews[['user_id', 'product_id', 'stars']]\n",
    "knn_dataframe.drop_duplicates(subset=['user_id', 'product_id'], keep='first', inplace=True)\n",
    "knn_dataframe"
   ]
  },
  {
   "cell_type": "markdown",
   "metadata": {},
   "source": [
    "#### Calculating ideal value for K\n",
    "With 10 fold cross validation <br>\n",
    "MAPE as the accuracy measure <br>\n",
    "Train/Test split of 0.3 <br>\n",
    "x = user_id <br>\n",
    "y = product_id <br>\n",
    "values = stars/ratings\n",
    "\n",
    "Here we are identifying the best value for K neighbours to pass to the algorithm. The value comes out to be 5 with a MAPE value of -0.45 meaning the model is 55% accurate. The hit ratio and precision/recall can be observed next."
   ]
  },
  {
   "cell_type": "code",
   "execution_count": 5,
   "metadata": {},
   "outputs": [
    {
     "data": {
      "image/png": "[encoded data removed]",
      "text/plain": [
       "<Figure size 432x288 with 1 Axes>"
      ]
     },
     "metadata": {
      "needs_background": "light"
     },
     "output_type": "display_data"
    }
   ],
   "source": [
    "array = knn_dataframe.values\n",
    "X = array[:,0:2]\n",
    "y = array[:,2]\n",
    "k_range = range(1, 31)\n",
    "k_scores = []\n",
    "\n",
    "for k in k_range:\n",
    "    knn = KNeighborsClassifier(n_neighbors=k)\n",
    "    scores = cross_val_score(knn, X, y, cv=10, scoring='neg_mean_absolute_percentage_error')\n",
    "    k_scores.append(scores.mean())\n",
    "\n",
    "plt.plot(k_range, k_scores)\n",
    "plt.xlabel('Value of K for KNN')\n",
    "plt.ylabel('Cross-Validated MAPE')\n",
    "plt.show()"
   ]
  },
  {
   "cell_type": "markdown",
   "metadata": {},
   "source": [
    "#### Training and testing with Accuracy, precision and recall\n",
    "Training and testing the model with above describes hyperparameters."
   ]
  },
  {
   "cell_type": "code",
   "execution_count": 6,
   "metadata": {},
   "outputs": [
    {
     "name": "stdout",
     "output_type": "stream",
     "text": [
      "0.5714285714285714\n",
      "[[  2   2   1   2  28]\n",
      " [  2   0   1   5  23]\n",
      " [  2   1   3   3  30]\n",
      " [  3   0   2  10  68]\n",
      " [ 10   4  15  35 301]]\n",
      "              precision    recall  f1-score   support\n",
      "\n",
      "           1       0.11      0.06      0.07        35\n",
      "           2       0.00      0.00      0.00        31\n",
      "           3       0.14      0.08      0.10        39\n",
      "           4       0.18      0.12      0.14        83\n",
      "           5       0.67      0.82      0.74       365\n",
      "\n",
      "    accuracy                           0.57       553\n",
      "   macro avg       0.22      0.22      0.21       553\n",
      "weighted avg       0.49      0.57      0.52       553\n",
      "\n"
     ]
    }
   ],
   "source": [
    "X_train, X_test, Y_train, Y_test= train_test_split(X, y, test_size=0.3,random_state=7)\n",
    "knn = KNeighborsClassifier(n_neighbors=5)\n",
    "knn.fit(X_train, Y_train)\n",
    "# pickle.dump(knn, open('knn.sav', 'wb'))\n",
    "# joblib.dump(knn, 'knn.sav')\n",
    "predictions = knn.predict(X_test)\n",
    "print(accuracy_score(Y_test, predictions))\n",
    "print(confusion_matrix(Y_test, predictions))\n",
    "print(classification_report(Y_test, predictions))"
   ]
  },
  {
   "cell_type": "markdown",
   "metadata": {},
   "source": [
    "#### Classifying rating for the entered product\n",
    "User input provided is the product id and the user id which will then classify the product rating. Again, it is to be highlighted that this model is not being used for predicition purpose. This is just to test the implementation and approach. Multiple approaches can found using this approach. You may visit [Towards Data Science | Susan Li | Recommender System](https://towardsdatascience.com/how-did-we-build-book-recommender-systems-in-an-hour-part-2-k-nearest-neighbors-and-matrix-c04b3c2ef55c) or any other for reference. "
   ]
  },
  {
   "cell_type": "code",
   "execution_count": 7,
   "metadata": {},
   "outputs": [
    {
     "name": "stdout",
     "output_type": "stream",
     "text": [
      "[[110, 2]]\n",
      "[5]\n"
     ]
    }
   ],
   "source": [
    "new_val = [[110, 2]]\n",
    "print(new_val)\n",
    "predictions = knn.predict(new_val)\n",
    "print(predictions.tolist())"
   ]
  },
  {
   "cell_type": "markdown",
   "metadata": {},
   "source": [
    "#### Sparse matrix for memory preservation\n",
    "This is the approach which is being used for suggesting similar products. Here were prepare the knn dataframe for the above prepare N neighbor model. The dataframe is converted in to a regular matrix by using pivot and then into a *sparse matrix* using csr_matrix to save on system resource and to get rid of 0 values that play no vital role in the algorithm whilst also making the model faster."
   ]
  },
  {
   "cell_type": "code",
   "execution_count": 8,
   "metadata": {},
   "outputs": [
    {
     "data": {
      "text/plain": [
       "<316x1210 sparse matrix of type '<class 'numpy.float64'>'\n",
       "\twith 1841 stored elements in Compressed Sparse Row format>"
      ]
     },
     "execution_count": 8,
     "metadata": {},
     "output_type": "execute_result"
    }
   ],
   "source": [
    "knn_pivot = knn_dataframe.pivot_table(index='product_id', columns='user_id', values='stars').fillna(0)\n",
    "knn_matrix = csr_matrix(knn_pivot.values)\n",
    "knn_matrix"
   ]
  },
  {
   "cell_type": "markdown",
   "metadata": {},
   "source": [
    "#### Fitting the KNN model\n",
    "The approach being taken here is the brutre algorithm being used for calculating the distance vector and the cosine similarity index to measure the similarity between multiple products closest to the cluster."
   ]
  },
  {
   "cell_type": "code",
   "execution_count": 9,
   "metadata": {},
   "outputs": [
    {
     "data": {
      "text/plain": [
       "NearestNeighbors(algorithm='brute', metric='cosine')"
      ]
     },
     "execution_count": 9,
     "metadata": {},
     "output_type": "execute_result"
    }
   ],
   "source": [
    "model_knn = NearestNeighbors(metric='cosine', algorithm='brute')\n",
    "model_knn.fit(knn_matrix)"
   ]
  },
  {
   "cell_type": "markdown",
   "metadata": {},
   "source": [
    "#### Predicting N nearest neighbours\n",
    "Now the entered user product is taken as the input and the 5 nearest neighbours are displayed based on their cosine similarity. N_neighbour is 6 meaning one for the product itself and 5 others. Unlike the Tf-IDF vectorizer the cosine index here does not measure the similarity ration based on the contents name, ingredients and brand, but here the actual distance between the plotted points is being calculated, meaning the larger the value the further the product ID is from the user entered value."
   ]
  },
  {
   "cell_type": "code",
   "execution_count": 10,
   "metadata": {},
   "outputs": [
    {
     "name": "stdout",
     "output_type": "stream",
     "text": [
      "Distances --> [[0.         0.86090704 0.88752179 0.89437782 0.89701552 0.91591748]]  Indices --> [[167 130  56 197  57  10]]\n",
      "Recommendation for 167: Max Complexion Correction Pads\n",
      "\n",
      "1. 130: Fresh Pressed Renewing Powder Cleanser with Pure Vitamin C, with distance of 0.8609070442733859:\n",
      "2. 56: Charlotte's Magic Cream Mini, with distance of 0.8875217946598074:\n",
      "3. 197: Pore-Balanceâ„¢ Facial Sauna Scrub, with distance of 0.8943778187027792:\n",
      "4. 57: Checks and Balancesâ„¢ Frothy Face Wash, with distance of 0.8970155181802966:\n",
      "5. 10: Acne Healing Dots, with distance of 0.9159174798094053:\n"
     ]
    }
   ],
   "source": [
    "query_index = 167\n",
    "distances,indices=model_knn.kneighbors(knn_pivot.iloc[query_index,:].values.reshape(1,-1),n_neighbors=6)\n",
    "print(\"Distances -->\",distances,\" Indices -->\",indices)\n",
    " \n",
    "# print(distances.flatten())\n",
    "# print(len(distances.flatten()))\n",
    " \n",
    "for i in range(0,len(distances.flatten())):\n",
    "    if i==0:\n",
    "        print(\"Recommendation for {0}: {1}\\n\".format(query_index, item(query_index)))\n",
    "    else:\n",
    "        print(\"{0}. {1}: {3}, with distance of {2}:\".format(i,indices.flatten()[i],distances.flatten()[i], item(indices.flatten()[i])))"
   ]
  },
  {
   "cell_type": "markdown",
   "metadata": {},
   "source": [
    "### Singular Value Decomposition\n",
    "SVD uses matrix factorization for recommending products that have some correlation based on the user ratings. "
   ]
  },
  {
   "cell_type": "markdown",
   "metadata": {},
   "source": [
    "#### Data load and Train/Test split\n",
    "Train test split from the Surprise library. The dataframes is the same from the above implementation meaning the identical features have been utilized here with a train test split of 30%"
   ]
  },
  {
   "cell_type": "code",
   "execution_count": 11,
   "metadata": {},
   "outputs": [],
   "source": [
    "reader = Reader(line_format='item user rating', sep=',')\n",
    "data = Dataset.load_from_df(knn_dataframe, reader=reader)\n",
    "trainset, testset = tts(data, test_size=.3)"
   ]
  },
  {
   "cell_type": "markdown",
   "metadata": {},
   "source": [
    "#### Fitting\n",
    "The model is fitted"
   ]
  },
  {
   "cell_type": "code",
   "execution_count": 12,
   "metadata": {},
   "outputs": [
    {
     "data": {
      "text/plain": [
       "<surprise.prediction_algorithms.matrix_factorization.SVD at 0x2348311ca90>"
      ]
     },
     "execution_count": 12,
     "metadata": {},
     "output_type": "execute_result"
    }
   ],
   "source": [
    "svd = SVD()\n",
    "svd.fit(trainset)"
   ]
  },
  {
   "cell_type": "markdown",
   "metadata": {},
   "source": [
    "#### Testing and Accuracy\n",
    "Average demand is 4.23 meaning the RMSE and MAE are relatively low and the accruacy is around 81.8% I say around because the value can vary each time the model is executed since train test data is altered by the predetermined *tts* import of the surprise library. <br>\n",
    "Since 5 is the max value hence 0.91/5 * 100 = 18.2 and 100-18.2=81.8\n",
    "\n",
    "The accuracy measures used here MAE and RMSE. These both are negatively confined measures meaning the lower the value the better. They can range from 0 to inf. To determine the evaluation measure it is best to identify the averge demand for the classification label which can help identify whether the values being received from the evaluation measures is justifiable or not."
   ]
  },
  {
   "cell_type": "code",
   "execution_count": 13,
   "metadata": {},
   "outputs": [
    {
     "name": "stdout",
     "output_type": "stream",
     "text": [
      "RMSE: 1.2318\n",
      "MAE:  0.9807\n"
     ]
    },
    {
     "data": {
      "text/plain": [
       "0.9806635240128121"
      ]
     },
     "execution_count": 13,
     "metadata": {},
     "output_type": "execute_result"
    }
   ],
   "source": [
    "predictions = svd.test(testset)\n",
    "accuracy.rmse(predictions)\n",
    "accuracy.mae(predictions)"
   ]
  },
  {
   "cell_type": "markdown",
   "metadata": {},
   "source": [
    "#### Average demand"
   ]
  },
  {
   "cell_type": "code",
   "execution_count": 14,
   "metadata": {},
   "outputs": [
    {
     "data": {
      "text/plain": [
       "4.236284627919609"
      ]
     },
     "execution_count": 14,
     "metadata": {},
     "output_type": "execute_result"
    }
   ],
   "source": [
    "knn_dataframe.stars.mean()"
   ]
  },
  {
   "cell_type": "markdown",
   "metadata": {},
   "source": [
    "#### Matrix factorization\n",
    "The model trained and tested above is being prepare here to adjust the API needs i.e. to take the product ID and user ID as the input and fit a regression line as close as possible to the ratings provided and return with the best suited values for the entered ID. 316 represents the product ID and 1210 is the user that has rated the item."
   ]
  },
  {
   "cell_type": "code",
   "execution_count": 15,
   "metadata": {},
   "outputs": [
    {
     "name": "stdout",
     "output_type": "stream",
     "text": [
      "(316, 1210)\n"
     ]
    },
    {
     "data": {
      "text/plain": [
       "(316, 12)"
      ]
     },
     "execution_count": 15,
     "metadata": {},
     "output_type": "execute_result"
    }
   ],
   "source": [
    "svd = TruncatedSVD(n_components=12, random_state=17)\n",
    "matrix = svd.fit_transform(knn_pivot)\n",
    "print(knn_pivot.shape)\n",
    "matrix.shape"
   ]
  },
  {
   "cell_type": "markdown",
   "metadata": {},
   "source": [
    "#### Correlation Matrix\n",
    "Correlation matrix is prepared."
   ]
  },
  {
   "cell_type": "code",
   "execution_count": 16,
   "metadata": {},
   "outputs": [
    {
     "data": {
      "text/plain": [
       "(316, 316)"
      ]
     },
     "execution_count": 16,
     "metadata": {},
     "output_type": "execute_result"
    }
   ],
   "source": [
    "corr = np.corrcoef(matrix)\n",
    "corr.shape"
   ]
  },
  {
   "cell_type": "markdown",
   "metadata": {},
   "source": [
    "#### Getting the index for the entered product ID\n",
    "Since we have a 2D matirx here, the index is not the actual product ID, but the index for the matrix row itself. Hence, we extract the matrix index to get the row for the user entered product ID and then use that *current_corr* value for prediction or recommendation purposes in the next cell."
   ]
  },
  {
   "cell_type": "code",
   "execution_count": 17,
   "metadata": {},
   "outputs": [
    {
     "data": {
      "text/plain": [
       "110"
      ]
     },
     "execution_count": 17,
     "metadata": {},
     "output_type": "execute_result"
    }
   ],
   "source": [
    "product_id = 167\n",
    "product_id_index = knn_pivot.index\n",
    "product_id_index_list = list(product_id_index)\n",
    "current_corr = product_id_index_list.index(product_id)\n",
    "current_corr"
   ]
  },
  {
   "cell_type": "markdown",
   "metadata": {},
   "source": [
    "#### Prediction\n",
    "Recommend the items closest to the entered product ID based on the regression model."
   ]
  },
  {
   "cell_type": "code",
   "execution_count": 18,
   "metadata": {},
   "outputs": [
    {
     "name": "stdout",
     "output_type": "stream",
     "text": [
      "Recommendation for 167: Max Complexion Correction Pads\n",
      "23: Anti Bac Clearing Lotion\n",
      "102: Essential Power Skin Toner for Combination to Oily Skin\n"
     ]
    }
   ],
   "source": [
    "current_corr_hand = corr[current_corr]\n",
    "print(\"Recommendation for {}: {}\".format(product_id, item(product_id)))\n",
    "for x in list(product_id_index[(current_corr_hand < 1.0) & (current_corr_hand > 0.9)]):\n",
    "    print(\"{}: {}\".format(x, item(x)))"
   ]
  }
 ],
 "metadata": {
  "kernelspec": {
   "display_name": "venv",
   "language": "python",
   "name": "venv"
  },
  "language_info": {
   "codemirror_mode": {
    "name": "ipython",
    "version": 3
   },
   "file_extension": ".py",
   "mimetype": "text/x-python",
   "name": "python",
   "nbconvert_exporter": "python",
   "pygments_lexer": "ipython3",
   "version": "3.9.0"
  }
 },
 "nbformat": 4,
 "nbformat_minor": 4
}
